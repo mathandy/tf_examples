{
 "cells": [
  {
   "cell_type": "code",
   "execution_count": 1,
   "metadata": {
    "collapsed": true
   },
   "outputs": [
    {
     "name": "stderr",
     "output_type": "stream",
     "text": [
      "/Users/Andy/.conda/envs/tf3/lib/python3.6/site-packages/h5py/__init__.py:36: FutureWarning: Conversion of the second argument of issubdtype from `float` to `np.floating` is deprecated. In future, it will be treated as `np.float64 == np.dtype(float).type`.\n",
      "  from ._conv import register_converters as _register_converters\n"
     ]
    }
   ],
   "source": [
    "import tensorflow as tf\n",
    "import matplotlib.pyplot as plt\n",
    "%matplotlib inline\n",
    "import numpy as np"
   ]
  },
  {
   "cell_type": "markdown",
   "metadata": {},
   "source": [
    "OK... thanks for the warning."
   ]
  },
  {
   "cell_type": "code",
   "execution_count": 2,
   "metadata": {},
   "outputs": [
    {
     "data": {
      "text/plain": [
       "9"
      ]
     },
     "execution_count": 2,
     "metadata": {},
     "output_type": "execute_result"
    }
   ],
   "source": [
    "# Let's start with a really simple evaluation\n",
    "x = tf.constant(3)\n",
    "f = x**2\n",
    "\n",
    "tf.Session().run(f)"
   ]
  },
  {
   "cell_type": "markdown",
   "metadata": {},
   "source": [
    "NOTE: `tf.constant()` isn't meant for large arrays, it will be stored in memory multiple times, [according to this stackoverflow post at least](https://stackoverflow.com/questions/41150741/in-tensorflow-what-is-the-difference-between-a-constant-and-a-non-trainable-var?rq=1) \n",
    "\n",
    "For taking in data, use `tf.placeholder()` instead."
   ]
  },
  {
   "cell_type": "code",
   "execution_count": 3,
   "metadata": {},
   "outputs": [
    {
     "name": "stdout",
     "output_type": "stream",
     "text": [
      "relative error = 1.3e-07\n"
     ]
    }
   ],
   "source": [
    "# Here's an example of how to use tf.placeholder() \n",
    "c = tf.constant(3.0)\n",
    "x = tf.placeholder('float32', (None, None, 3))  # tf expects x to be of shape (?, ?, 3)\n",
    "f = c*x**2\n",
    "\n",
    "# let's make some fake data to feed in\n",
    "some_big_array = np.random.rand(1000, 1000, 3)\n",
    "\n",
    "# Let's feed our fake data in as `x` and request that the quantity f be returned\n",
    "tf_answer = tf.Session().run(fetches=[f], feed_dict={x: some_big_array})\n",
    "\n",
    "# Let's check that the result matches numpy's answer\n",
    "np_answer = 3*some_big_array**2\n",
    "norm = np.linalg.norm  # Frobenius distance\n",
    "print(\"relative error = %.3g\" % (norm(tf_answer - np_answer)/norm(some_big_array)))"
   ]
  },
  {
   "cell_type": "markdown",
   "metadata": {},
   "source": [
    "### Now let's try something ML-ish (i.e. let's use gradient descent for some silly thing): \n",
    "Let's make the weight, `c`, \"trainable\" and use TensorFlow find the vector $\\vec c$ such that, for some given pair $(x,y)$, we have $f(x) = c_3x^2 + c_2*x**2 + c_1*x + c_0 \\approx y$.  \n",
    "I.e. let's use TensorFlow to fit a cubic polynomial to some random data.\n",
    "\n",
    "Since we want `c` to trainable, we'll want to use `tf.variable()` instead of `tf.contant()` -- also, note that since we're training `c`, we need to start with some initial guess."
   ]
  },
  {
   "cell_type": "code",
   "execution_count": 4,
   "metadata": {},
   "outputs": [],
   "source": [
    "def cubic_fit(x_train, y_train, batch_size, epochs, learning_rate):\n",
    "    # pick random initial guess for `c` and set up inputs\n",
    "    c = tf.Variable(tf.truncated_normal([4, 1]))\n",
    "    x = tf.placeholder(tf.float32, (batch_size,))\n",
    "    y = tf.placeholder(tf.float32, (batch_size,))\n",
    "    X = tf.stack([tf.ones(tf.shape(x)), x, x**2, x**3], axis=1)\n",
    "    \n",
    "    # compute predictions and loss\n",
    "    y_hat = tf.squeeze(tf.matmul(X, c))  # `tf.squeeze` is similar to `np.ravel`\n",
    "    loss = tf.reduce_sum((y - y_hat)**2)/batch_size\n",
    "\n",
    "    # To train: specify an optimization scheme and add it to the `fetches`\n",
    "    # all \"trainable\" variables will be trained (here that's just `c`)\n",
    "    update_step = tf.train.GradientDescentOptimizer(learning_rate=learning_rate).minimize(loss)\n",
    "    \n",
    "    with tf.Session() as sess:\n",
    "        sess.run(tf.global_variables_initializer())  # initialize weights (i.e. guess for c)\n",
    "        for epoch in range(epochs):\n",
    "            # shuffle\n",
    "            permutation = np.random.permutation(len(x_train))\n",
    "            x_train, y_train = x_train[permutation], y_train[permutation]\n",
    "            \n",
    "            # train for an epoch\n",
    "            for step in range(num_samples//batch_size):\n",
    "                x_batch = x_train[step*batch_size: (step + 1)*batch_size]\n",
    "                y_batch = y_train[step*batch_size: (step + 1)*batch_size]\n",
    "\n",
    "                y_hat_, loss_, _ = sess.run(fetches=[y_hat, loss, update_step], \n",
    "                                                    feed_dict={x: x_batch, y: y_batch})\n",
    "            \n",
    "            print(\"epoch: %s | loss = %s\" %(epoch, loss_))\n",
    "    return x_batch, y_hat_\n",
    "        "
   ]
  },
  {
   "cell_type": "code",
   "execution_count": 5,
   "metadata": {},
   "outputs": [],
   "source": [
    "# let's make some fake data that's could reasonably be approximated by a cubic\n",
    "npr = np.random\n",
    "num_samples = 1024\n",
    "cubic = np.poly1d(1 + npr.randint(-10, 10, (4,)))      # a random cubic\n",
    "x_train = np.linspace(np.roots(cubic).real.min()-1, np.roots(cubic).real.max()+1, num_samples)\n",
    "y_train = (cubic(x_train) + npr.rand(num_samples)/10)"
   ]
  },
  {
   "cell_type": "code",
   "execution_count": 6,
   "metadata": {},
   "outputs": [
    {
     "name": "stdout",
     "output_type": "stream",
     "text": [
      "epoch: 0 | loss = 0.5977421\n",
      "epoch: 1 | loss = 0.010597946\n",
      "epoch: 2 | loss = 0.0009717777\n",
      "epoch: 3 | loss = 0.0011633539\n",
      "epoch: 4 | loss = 0.0009372919\n",
      "epoch: 5 | loss = 0.0005576111\n",
      "epoch: 6 | loss = 0.00095220504\n",
      "epoch: 7 | loss = 0.0006836301\n",
      "epoch: 8 | loss = 0.0006964963\n",
      "epoch: 9 | loss = 0.0013930437\n"
     ]
    }
   ],
   "source": [
    "xb, yh = cubic_fit(x_train, y_train, batch_size=32, epochs=10, learning_rate = 0.1)"
   ]
  },
  {
   "cell_type": "code",
   "execution_count": 7,
   "metadata": {},
   "outputs": [
    {
     "data": {
      "image/png": "[encoded data removed]",
      "text/plain": [
       "<Figure size 432x288 with 1 Axes>"
      ]
     },
     "metadata": {},
     "output_type": "display_data"
    }
   ],
   "source": [
    "xb, yh = zip(*sorted(zip(xb,yh)))\n",
    "plt.plot(xb, yh, 'ro', x_train, y_train, 'b--')\n",
    "plt.show()"
   ]
  },
  {
   "cell_type": "code",
   "execution_count": null,
   "metadata": {},
   "outputs": [],
   "source": []
  }
 ],
 "metadata": {
  "kernelspec": {
   "display_name": "Python 3",
   "language": "python",
   "name": "python3"
  },
  "language_info": {
   "codemirror_mode": {
    "name": "ipython",
    "version": 3
   },
   "file_extension": ".py",
   "mimetype": "text/x-python",
   "name": "python",
   "nbconvert_exporter": "python",
   "pygments_lexer": "ipython3",
   "version": "3.6.2"
  }
 },
 "nbformat": 4,
 "nbformat_minor": 2
}
